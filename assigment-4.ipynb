{
 "cells": [
  {
   "cell_type": "raw",
   "id": "4329e19d",
   "metadata": {},
   "source": [
    "Number 1 -\n",
    "\n",
    "    Question -\n",
    "\n",
    "    What exactly is []?\n",
    "\n",
    "    Answer -\n",
    "\n",
    "    The empty list value, which is a list value that contains no items.\n"
   ]
  },
  {
   "cell_type": "raw",
   "id": "d50e920d",
   "metadata": {},
   "source": [
    "\n",
    "\n",
    "Number 2 -\n",
    "\n",
    "    Question -\n",
    "\n",
    "    In a list of values stored in a variable called spam, how would you assign the value 'hello' as the third value? (Assume [2, 4, 6, 8, 10] are in spam.)\n",
    "\n",
    "    Answer -\n",
    "\n",
    "    spam[2] = 'hello'\n",
    "\n"
   ]
  },
  {
   "cell_type": "code",
   "execution_count": 1,
   "id": "7b7aba1c",
   "metadata": {},
   "outputs": [
    {
     "data": {
      "text/plain": [
       "[2, 4, 'hello', 8, 10]"
      ]
     },
     "execution_count": 1,
     "metadata": {},
     "output_type": "execute_result"
    }
   ],
   "source": [
    "spam = [2, 4, 6, 8, 10]\n",
    "spam[2] = 'hello' \n",
    "spam"
   ]
  },
  {
   "cell_type": "raw",
   "id": "02a59271",
   "metadata": {},
   "source": [
    "Let's pretend the spam includes the list ['a', 'b', 'c', 'd'] for the next three queries.\n",
    "\n",
    "Number 3 -\n",
    "\n",
    "    Question -\n",
    "\n",
    "    What is the value of spam[int(int('3' * 2) / 11)]?\n",
    "\n",
    "    Answer -\n"
   ]
  },
  {
   "cell_type": "code",
   "execution_count": 2,
   "id": "cb06e043",
   "metadata": {},
   "outputs": [
    {
     "data": {
      "text/plain": [
       "'d'"
      ]
     },
     "execution_count": 2,
     "metadata": {},
     "output_type": "execute_result"
    }
   ],
   "source": [
    "spam = ['a', 'b', 'c', 'd']\n",
    "spam[int(int('3' * 2) / 11)]"
   ]
  },
  {
   "cell_type": "raw",
   "id": "6a956746",
   "metadata": {},
   "source": [
    "Number 4 -\n",
    "\n",
    "    Question -\n",
    "\n",
    "    What is the value of spam[-1]?\n",
    "\n",
    "    Answer -\n"
   ]
  },
  {
   "cell_type": "code",
   "execution_count": 3,
   "id": "5307effa",
   "metadata": {},
   "outputs": [
    {
     "data": {
      "text/plain": [
       "'d'"
      ]
     },
     "execution_count": 3,
     "metadata": {},
     "output_type": "execute_result"
    }
   ],
   "source": [
    "spam[-1]"
   ]
  },
  {
   "cell_type": "raw",
   "id": "c3d541cc",
   "metadata": {},
   "source": [
    "Number 5 -\n",
    "\n",
    "    Question -\n",
    "\n",
    "    What is the value of spam[:2]?\n",
    "\n",
    "    Answer -\n"
   ]
  },
  {
   "cell_type": "code",
   "execution_count": 4,
   "id": "eca4b5e1",
   "metadata": {},
   "outputs": [
    {
     "data": {
      "text/plain": [
       "['a', 'b']"
      ]
     },
     "execution_count": 4,
     "metadata": {},
     "output_type": "execute_result"
    }
   ],
   "source": [
    "spam[:2]"
   ]
  },
  {
   "cell_type": "raw",
   "id": "c3fb6c48",
   "metadata": {},
   "source": [
    "Let's pretend bacon has the list [3.14, 'cat', 11, 'cat', True] for the next three questions."
   ]
  },
  {
   "cell_type": "code",
   "execution_count": 5,
   "id": "a2c52e85",
   "metadata": {},
   "outputs": [],
   "source": [
    "bacon = [3.14, 'cat', 11, 'cat', True]"
   ]
  },
  {
   "cell_type": "raw",
   "id": "90871628",
   "metadata": {},
   "source": [
    "Number 6 -\n",
    "\n",
    "    Question -\n",
    "\n",
    "    What is the value of bacon.index('cat')?\n",
    "\n",
    "    Answer -\n"
   ]
  },
  {
   "cell_type": "code",
   "execution_count": 6,
   "id": "084b668a",
   "metadata": {},
   "outputs": [
    {
     "data": {
      "text/plain": [
       "1"
      ]
     },
     "execution_count": 6,
     "metadata": {},
     "output_type": "execute_result"
    }
   ],
   "source": [
    "bacon.index('cat')"
   ]
  },
  {
   "cell_type": "raw",
   "id": "2123b55f",
   "metadata": {},
   "source": [
    "Number 7 -\n",
    "\n",
    "    Question -\n",
    "\n",
    "    What does bacon.append(99) change the look of the list value in bacon?\n",
    "\n",
    "    Answer -\n"
   ]
  },
  {
   "cell_type": "code",
   "execution_count": 7,
   "id": "3d2c23f4",
   "metadata": {},
   "outputs": [
    {
     "data": {
      "text/plain": [
       "[3.14, 'cat', 11, 'cat', True, 99]"
      ]
     },
     "execution_count": 7,
     "metadata": {},
     "output_type": "execute_result"
    }
   ],
   "source": [
    "bacon.append(99)\n",
    "bacon"
   ]
  },
  {
   "cell_type": "raw",
   "id": "44ea35ac",
   "metadata": {},
   "source": [
    "Number 8 -\n",
    "\n",
    "    Question -\n",
    "\n",
    "    How does bacon.remove('cat') change the look of the list meaning in bacon?\n",
    "\n",
    "    Answer -\n"
   ]
  },
  {
   "cell_type": "code",
   "execution_count": 9,
   "id": "c90761ee",
   "metadata": {},
   "outputs": [
    {
     "data": {
      "text/plain": [
       "[3.14, 11, 'cat', True, 99]"
      ]
     },
     "execution_count": 9,
     "metadata": {},
     "output_type": "execute_result"
    }
   ],
   "source": [
    "bacon.remove('cat') \n",
    "bacon"
   ]
  },
  {
   "cell_type": "raw",
   "id": "334f5c62",
   "metadata": {},
   "source": [
    "Number 9 -\n",
    "\n",
    "    Question -\n",
    "\n",
    "    What are the list concatenation and list replication operators?\n",
    "\n",
    "    Answer -\n",
    "\n",
    "    The operator for list concatenation is +, while the operator for replication is *.\n"
   ]
  },
  {
   "cell_type": "raw",
   "id": "c2b374e3",
   "metadata": {},
   "source": [
    "Number 10 -\n",
    "\n",
    "    Question -\n",
    "\n",
    "    What is difference between the list methods append() and insert()?\n",
    "\n",
    "    Answer -\n",
    "\n",
    "    While append() will add values only to the end of a list, insert() can add them anywhere in the list.\n"
   ]
  },
  {
   "cell_type": "raw",
   "id": "b3cca89d",
   "metadata": {},
   "source": [
    "Number 11-\n",
    "\n",
    "    Question -\n",
    "\n",
    "    What are the two methods for removing items from a list?\n",
    "\n",
    "    Answer -\n",
    "\n",
    "    The del statement and the remove() list method are two ways to remove values from a list.\n"
   ]
  },
  {
   "cell_type": "raw",
   "id": "3658c824",
   "metadata": {},
   "source": [
    "Number 12 -\n",
    "\n",
    "    Question -\n",
    "\n",
    "    Describe how list values and string values are identical.\n",
    "\n",
    "    Answer -\n",
    "\n",
    "    Both lists and strings can be passed to len(), have indexes and slices, be used in for loops, be concatenated or replicated, and be used with the in and not in operators.\n"
   ]
  },
  {
   "cell_type": "raw",
   "id": "8a17aa5e",
   "metadata": {},
   "source": [
    "Number 13 -\n",
    "\n",
    "    Question -\n",
    "\n",
    "    What's the difference between tuples and lists?\n",
    "\n",
    "    Answer -\n",
    "\n",
    "    Lists are mutable; they can have values added, removed, or changed. Tuples are immutable; they cannot be changed at all. Also, tuples are written using parentheses, ( and ), while lists use the square brackets, [ and ].\n"
   ]
  },
  {
   "cell_type": "raw",
   "id": "5205c2bd",
   "metadata": {},
   "source": [
    "Number 14 -\n",
    "\n",
    "    Question -\n",
    "\n",
    "    How do you type a tuple value that only contains the integer 42?\n",
    "\n",
    "    Answer -\n",
    "\n",
    "    (42)\n"
   ]
  },
  {
   "cell_type": "raw",
   "id": "0a21394c",
   "metadata": {},
   "source": [
    "Number 15 -\n",
    "\n",
    "    Question -\n",
    "\n",
    "    How do you get a list value's tuple form? How do you get a tuple value's list form?\n",
    "\n",
    "    Answer -\n",
    "\n",
    "    The tuple() and list() functions, respectively\n"
   ]
  },
  {
   "cell_type": "raw",
   "id": "1b6a0919",
   "metadata": {},
   "source": [
    "Number 16 -\n",
    "\n",
    "    Question -\n",
    "\n",
    "    Variables that \"contain\" list values are not necessarily lists themselves. Instead, what do they contain?\n",
    "\n",
    "    Answer -\n",
    "\n",
    "    They contain references to list values.\n"
   ]
  },
  {
   "cell_type": "raw",
   "id": "9350ad87",
   "metadata": {},
   "source": [
    "Number 17 -\n",
    "\n",
    "    Question -\n",
    "\n",
    "    How do you distinguish between copy.copy() and copy.deepcopy()?\n",
    "\n",
    "    Answer -\n",
    "\n",
    "    The copy.copy() function will do a shallow copy of a list, while the copy.deepcopy() function will do a deep copy of a list. That is, only copy.deepcopy() will duplicate any lists inside the list.\n"
   ]
  },
  {
   "cell_type": "code",
   "execution_count": null,
   "id": "a2731d90",
   "metadata": {},
   "outputs": [],
   "source": []
  }
 ],
 "metadata": {
  "kernelspec": {
   "display_name": "Python 3 (ipykernel)",
   "language": "python",
   "name": "python3"
  },
  "language_info": {
   "codemirror_mode": {
    "name": "ipython",
    "version": 3
   },
   "file_extension": ".py",
   "mimetype": "text/x-python",
   "name": "python",
   "nbconvert_exporter": "python",
   "pygments_lexer": "ipython3",
   "version": "3.10.9"
  }
 },
 "nbformat": 4,
 "nbformat_minor": 5
}
